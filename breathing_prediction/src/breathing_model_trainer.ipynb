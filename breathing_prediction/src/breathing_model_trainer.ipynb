{
 "cells": [
  {
   "cell_type": "code",
   "execution_count": 6,
   "id": "52c1f28e",
   "metadata": {},
   "outputs": [
    {
     "name": "stderr",
     "output_type": "stream",
     "text": [
      "============================================================================================== \n",
      "Warning! Mixing Conda and module environments may lead to corruption of the\n",
      "user environment. \n",
      "We do not recommend users mixing those two environments unless absolutely\n",
      "necessary. Note that \n",
      "SURF does not provide any support for Conda environment.\n",
      "For more information, please refer to our software policy page:\n",
      "https://servicedesk.surf.nl/wiki/display/WIKI/Software+policy+Snellius#SoftwarepolicySnellius-UseofAnacondaandMinicondaenvironmentsonSnellius \n",
      "\n",
      "Remember that many packages have already been installed on the system and can\n",
      "be loaded using \n",
      "the 'module load <package__name>' command. If you are uncertain if a package is\n",
      "already available \n",
      "on the system, please use 'module avail' or 'module spider' to search for it.\n",
      "============================================================================================== \n"
     ]
    },
    {
     "name": "stdout",
     "output_type": "stream",
     "text": [
      "Module list\n",
      "+++++++++++++++++++++++++++++\n",
      "+++++++++++++++++++++++++++++\n",
      "active environment: \n",
      "+++++++++++++++++++++++++++++\n"
     ]
    },
    {
     "name": "stderr",
     "output_type": "stream",
     "text": [
      "\n",
      "Currently Loaded Modules:\n",
      "  1) 2023\n",
      "  2) code-server/4.16.1\n",
      "  3) Anaconda3/2023.07-2\n",
      "  4) GCCcore/12.3.0\n",
      "  5) zlib/1.2.13-GCCcore-12.3.0\n",
      "  6) binutils/2.40-GCCcore-12.3.0\n",
      "  7) GCC/12.3.0\n",
      "  8) OpenBLAS/0.3.23-GCC-12.3.0\n",
      "  9) FlexiBLAS/3.3.1-GCC-12.3.0\n",
      " 10) FFTW/3.3.10-GCC-12.3.0\n",
      " 11) gfbf/2023a\n",
      " 12) bzip2/1.0.8-GCCcore-12.3.0\n",
      " 13) ncurses/6.4-GCCcore-12.3.0\n",
      " 14) libreadline/8.2-GCCcore-12.3.0\n",
      " 15) Tcl/8.6.13-GCCcore-12.3.0\n",
      " 16) SQLite/3.42.0-GCCcore-12.3.0\n",
      " 17) XZ/5.4.2-GCCcore-12.3.0\n",
      " 18) libffi/3.4.4-GCCcore-12.3.0\n",
      " 19) OpenSSL/3\n",
      " 20) Python/3.11.3-GCCcore-12.3.0\n",
      " 21) cffi/1.15.1-GCCcore-12.3.0\n",
      " 22) cryptography/41.0.1-GCCcore-12.3.0\n",
      " 23) virtualenv/20.23.1-GCCcore-12.3.0\n",
      " 24) Python-bundle-PyPI/2023.06-GCCcore-12.3.0\n",
      " 25) pybind11/2.11.1-GCCcore-12.3.0\n",
      " 26) SciPy-bundle/2023.07-gfbf-2023a\n",
      " 27) Abseil/20230125.3-GCCcore-12.3.0\n",
      " 28) protobuf/24.0-GCCcore-12.3.0\n",
      " 29) protobuf-python/4.24.0-GCCcore-12.3.0\n",
      " 30) tensorboard/2.15.1-gfbf-2023a\n",
      " 31) numactl/2.0.16-GCCcore-12.3.0\n",
      " 32) libxml2/2.11.4-GCCcore-12.3.0\n",
      " 33) libpciaccess/0.17-GCCcore-12.3.0\n",
      " 34) hwloc/2.9.1-GCCcore-12.3.0\n",
      " 35) libevent/2.1.12-GCCcore-12.3.0\n",
      " 36) UCX/1.14.1-GCCcore-12.3.0\n",
      " 37) libfabric/1.18.0-GCCcore-12.3.0\n",
      " 38) UCC/1.2.0-GCCcore-12.3.0\n",
      " 39) OpenMPI/4.1.5-GCC-12.3.0\n",
      " 40) gompi/2023a\n",
      " 41) FFTW.MPI/3.3.10-gompi-2023a\n",
      " 42) ScaLAPACK/2.2.0-gompi-2023a-fb\n",
      " 43) foss/2023a\n",
      " 44) NASM/2.16.01-GCCcore-12.3.0\n",
      " 45) x264/20230226-GCCcore-12.3.0\n",
      " 46) LAME/3.100-GCCcore-12.3.0\n",
      " 47) x265/3.5-GCCcore-12.3.0\n",
      " 48) expat/2.5.0-GCCcore-12.3.0\n",
      " 49) libpng/1.6.39-GCCcore-12.3.0\n",
      " 50) Brotli/1.0.9-GCCcore-12.3.0\n",
      " 51) freetype/2.13.0-GCCcore-12.3.0\n",
      " 52) util-linux/2.39-GCCcore-12.3.0\n",
      " 53) fontconfig/2.14.2-GCCcore-12.3.0\n",
      " 54) xorg-macros/1.20.0-GCCcore-12.3.0\n",
      " 55) X11/20230603-GCCcore-12.3.0\n",
      " 56) FriBidi/1.0.12-GCCcore-12.3.0\n",
      " 57) SDL2/2.28.2-GCCcore-12.3.0\n",
      " 58) FFmpeg/6.0-GCCcore-12.3.0\n",
      " 59) scikit-learn/1.3.1-gfbf-2023a\n",
      " 60) numba/0.58.1-foss-2023a\n",
      " 61) libogg/1.3.5-GCCcore-12.3.0\n",
      " 62) FLAC/1.4.2-GCCcore-12.3.0\n",
      " 63) libvorbis/1.3.7-GCCcore-12.3.0\n",
      " 64) libopus/1.4-GCCcore-12.3.0\n",
      " 65) libsndfile/1.2.2-GCCcore-12.3.0\n",
      " 66) librosa/0.10.1-foss-2023a\n",
      " 67) CUDA/12.1.1\n",
      " 68) cuDNN/8.9.2.26-CUDA-12.1.1\n",
      " 69) GDRCopy/2.3.1-GCCcore-12.3.0\n",
      " 70) UCX-CUDA/1.14.1-GCCcore-12.3.0-CUDA-12.1.1\n",
      " 71) magma/2.7.2-foss-2023a-CUDA-12.1.1\n",
      " 72) NCCL/2.18.3-GCCcore-12.3.0-CUDA-12.1.1\n",
      " 73) Ninja/1.11.1-GCCcore-12.3.0\n",
      " 74) libyaml/0.2.5-GCCcore-12.3.0\n",
      " 75) PyYAML/6.0-GCCcore-12.3.0\n",
      " 76) GMP/6.2.1-GCCcore-12.3.0\n",
      " 77) MPFR/4.2.0-GCCcore-12.3.0\n",
      " 78) libjpeg-turbo/2.1.5.1-GCCcore-12.3.0\n",
      " 79) jbigkit/2.1-GCCcore-12.3.0\n",
      " 80) gzip/1.12-GCCcore-12.3.0\n",
      " 81) lz4/1.9.4-GCCcore-12.3.0\n",
      " 82) zstd/1.5.5-GCCcore-12.3.0\n",
      " 83) libdeflate/1.18-GCCcore-12.3.0\n",
      " 84) LibTIFF/4.5.0-GCCcore-12.3.0\n",
      " 85) Pillow/10.0.0-GCCcore-12.3.0\n",
      " 86) hatchling/1.18.0-GCCcore-12.3.0\n",
      " 87) poetry/1.5.1-GCCcore-12.3.0\n",
      " 88) expecttest/0.1.5-GCCcore-12.3.0\n",
      " 89) networkx/3.1-gfbf-2023a\n",
      " 90) MPC/1.3.1-GCCcore-12.3.0\n",
      " 91) gmpy2/2.1.5-GCC-12.3.0\n",
      " 92) sympy/1.12-gfbf-2023a\n",
      " 93) Z3/4.12.2-GCCcore-12.3.0\n",
      " 94) PyTorch/2.1.2-foss-2023a-CUDA-12.1.1\n",
      "\n",
      " \n",
      "\n"
     ]
    },
    {
     "data": {
      "text/plain": [
       "0"
      ]
     },
     "execution_count": 6,
     "metadata": {},
     "output_type": "execute_result"
    }
   ],
   "source": [
    "\n",
    "import os\n",
    " \n",
    "os.system(\"./load_modules.sh\")\n"
   ]
  },
  {
   "cell_type": "code",
   "execution_count": null,
   "id": "8e6bffcb",
   "metadata": {},
   "outputs": [],
   "source": []
  },
  {
   "cell_type": "code",
   "execution_count": 3,
   "id": "4eb70271-70af-41ec-9bc7-b5e596e53424",
   "metadata": {},
   "outputs": [
    {
     "ename": "ModuleNotFoundError",
     "evalue": "No module named 'torch'",
     "output_type": "error",
     "traceback": [
      "\u001b[0;31m---------------------------------------------------------------------------\u001b[0m",
      "\u001b[0;31mModuleNotFoundError\u001b[0m                       Traceback (most recent call last)",
      "Cell \u001b[0;32mIn[3], line 2\u001b[0m\n\u001b[1;32m      1\u001b[0m \u001b[39m# Local imports\u001b[39;00m\n\u001b[0;32m----> 2\u001b[0m \u001b[39mfrom\u001b[39;00m \u001b[39mmodels\u001b[39;00m \u001b[39mimport\u001b[39;00m \u001b[39m*\u001b[39m\n\u001b[1;32m      3\u001b[0m \u001b[39mfrom\u001b[39;00m \u001b[39mutils\u001b[39;00m \u001b[39mimport\u001b[39;00m \u001b[39m*\u001b[39m\n\u001b[1;32m      4\u001b[0m \u001b[39mfrom\u001b[39;00m \u001b[39mlosses\u001b[39;00m \u001b[39mimport\u001b[39;00m \u001b[39m*\u001b[39m\n",
      "File \u001b[0;32m/gpfs/home3/gdwildt/Master_thesis/breathing_prediction/src/models.py:1\u001b[0m\n\u001b[0;32m----> 1\u001b[0m \u001b[39mimport\u001b[39;00m \u001b[39mtorch\u001b[39;00m\n\u001b[1;32m      2\u001b[0m \u001b[39mimport\u001b[39;00m \u001b[39mtorch\u001b[39;00m\u001b[39m.\u001b[39;00m\u001b[39mnn\u001b[39;00m \u001b[39mas\u001b[39;00m \u001b[39mnn\u001b[39;00m\n\u001b[1;32m      3\u001b[0m \u001b[39mimport\u001b[39;00m \u001b[39mtorch\u001b[39;00m\u001b[39m.\u001b[39;00m\u001b[39mnn\u001b[39;00m\u001b[39m.\u001b[39;00m\u001b[39mfunctional\u001b[39;00m \u001b[39mas\u001b[39;00m \u001b[39mF\u001b[39;00m\n",
      "\u001b[0;31mModuleNotFoundError\u001b[0m: No module named 'torch'"
     ]
    }
   ],
   "source": [
    "# Local imports\n",
    "from models import *\n",
    "from utils import *\n",
    "from losses import *\n",
    "from dataset import *\n",
    "from trainer import *\n",
    "from config import Config\n",
    "\n",
    "if __name__ == \"__main__\":\n",
    "    config = Config()\n",
    "    bert_config = HubertConfig.from_pretrained(config.bert_model)\n",
    "    device = torch.device(config.device if torch.cuda.is_available() else \"cpu\")\n",
    "    criterion = PearsonLoss()\n",
    "    print(device)\n",
    "\n",
    "    model_classes = {\n",
    "        #\"VRBModel\": VRBModel,\n",
    "        \"RespBertLSTMModel\": RespBertLSTMModel,\n",
    "        \"Wav2Vec2ConvLSTMModel\": Wav2Vec2ConvLSTMModel,\n",
    "        #\"RespBertAttionModel\": RespBertAttionModel,\n",
    "    }\n",
    "\n",
    "    # Prepare data\n",
    "    train_data, test_data, ground_labels = prepare_data_model(\n",
    "        config.audio_interspeech_norm,\n",
    "        config.breath_interspeech_folder,\n",
    "        window_size=config.window_size,\n",
    "        step_size=config.step_size,\n",
    "    )\n",
    "\n",
    "    trainer = Trainer(config, model_classes, criterion, device, bert_config, ground_labels)\n",
    "    trainer.train(train_data, test_data)"
   ]
  },
  {
   "cell_type": "code",
   "execution_count": 1,
   "id": "07cefc04-56a7-46ab-b11f-f7bab4479dc2",
   "metadata": {},
   "outputs": [
    {
     "ename": "ModuleNotFoundError",
     "evalue": "No module named 'torch'",
     "output_type": "error",
     "traceback": [
      "\u001b[0;31m---------------------------------------------------------------------------\u001b[0m",
      "\u001b[0;31mModuleNotFoundError\u001b[0m                       Traceback (most recent call last)",
      "Cell \u001b[0;32mIn[1], line 1\u001b[0m\n\u001b[0;32m----> 1\u001b[0m \u001b[39mimport\u001b[39;00m \u001b[39mtorch\u001b[39;00m\n\u001b[1;32m      2\u001b[0m torch\u001b[39m.\u001b[39mcuda\u001b[39m.\u001b[39mis_available()\n\u001b[1;32m      3\u001b[0m \u001b[39mprint\u001b[39m(torch\u001b[39m.\u001b[39mcuda\u001b[39m.\u001b[39mget_device_name())\n",
      "\u001b[0;31mModuleNotFoundError\u001b[0m: No module named 'torch'"
     ]
    }
   ],
   "source": [
    "import torch\n",
    "torch.cuda.is_available()\n",
    "print(torch.cuda.get_device_name())"
   ]
  },
  {
   "cell_type": "code",
   "execution_count": null,
   "id": "a1b8ed24",
   "metadata": {},
   "outputs": [],
   "source": []
  },
  {
   "cell_type": "code",
   "execution_count": null,
   "id": "d27e2b1c",
   "metadata": {},
   "outputs": [],
   "source": []
  }
 ],
 "metadata": {
  "kernelspec": {
   "display_name": "Python 3 (ipykernel)",
   "language": "python",
   "name": "python3"
  },
  "language_info": {
   "codemirror_mode": {
    "name": "ipython",
    "version": 3
   },
   "file_extension": ".py",
   "mimetype": "text/x-python",
   "name": "python",
   "nbconvert_exporter": "python",
   "pygments_lexer": "ipython3",
   "version": "3.11.7"
  }
 },
 "nbformat": 4,
 "nbformat_minor": 5
}
