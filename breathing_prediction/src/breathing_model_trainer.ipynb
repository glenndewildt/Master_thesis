{
 "cells": [
  {
   "cell_type": "code",
   "execution_count": 1,
   "id": "4eb70271-70af-41ec-9bc7-b5e596e53424",
   "metadata": {},
   "outputs": [
    {
     "name": "stderr",
     "output_type": "stream",
     "text": [
      "2024-09-19 19:17:15.446311: E external/local_xla/xla/stream_executor/cuda/cuda_fft.cc:485] Unable to register cuFFT factory: Attempting to register factory for plugin cuFFT when one has already been registered\n",
      "2024-09-19 19:17:15.468093: E external/local_xla/xla/stream_executor/cuda/cuda_dnn.cc:8454] Unable to register cuDNN factory: Attempting to register factory for plugin cuDNN when one has already been registered\n",
      "2024-09-19 19:17:15.475968: E external/local_xla/xla/stream_executor/cuda/cuda_blas.cc:1452] Unable to register cuBLAS factory: Attempting to register factory for plugin cuBLAS when one has already been registered\n",
      "2024-09-19 19:17:15.491530: I tensorflow/core/platform/cpu_feature_guard.cc:210] This TensorFlow binary is optimized to use available CPU instructions in performance-critical operations.\n",
      "To enable the following instructions: AVX2 FMA, in other operations, rebuild TensorFlow with the appropriate compiler flags.\n",
      "2024-09-19 19:17:16.606339: W tensorflow/compiler/tf2tensorrt/utils/py_utils.cc:38] TF-TRT Warning: Could not find TensorRT\n",
      "/home/glenn/anaconda3/lib/python3.12/site-packages/transformers/tokenization_utils_base.py:1601: FutureWarning: `clean_up_tokenization_spaces` was not set. It will be set to `True` by default. This behavior will be depracted in transformers v4.45, and will be then set to `False` by default. For more details check this issue: https://github.com/huggingface/transformers/issues/31884\n",
      "  warnings.warn(\n"
     ]
    },
    {
     "name": "stdout",
     "output_type": "stream",
     "text": [
      "Training Wav2Vec2ConvLSTMModel...\n",
      "Fold 1/5\n"
     ]
    },
    {
     "name": "stderr",
     "output_type": "stream",
     "text": [
      "/home/glenn/anaconda3/lib/python3.12/site-packages/transformers/configuration_utils.py:364: UserWarning: Passing `gradient_checkpointing` to a config initialization is deprecated and will be removed in v5 Transformers. Using `model.gradient_checkpointing_enable()` instead, or if you are using the `Trainer` API, pass `gradient_checkpointing=True` in your `TrainingArguments`.\n",
      "  warnings.warn(\n",
      "Some weights of Wav2Vec2Model were not initialized from the model checkpoint at facebook/wav2vec2-base and are newly initialized: ['wav2vec2.encoder.pos_conv_embed.conv.parametrizations.weight.original0', 'wav2vec2.encoder.pos_conv_embed.conv.parametrizations.weight.original1']\n",
      "You should probably TRAIN this model on a down-stream task to be able to use it for predictions and inference.\n",
      "Training Epoch 1/1:   0%|          | 0/1399 [00:00<?, ?it/s]/home/glenn/anaconda3/lib/python3.12/site-packages/torch/utils/checkpoint.py:295: FutureWarning: `torch.cpu.amp.autocast(args...)` is deprecated. Please use `torch.amp.autocast('cpu', args...)` instead.\n",
      "  with torch.enable_grad(), device_autocast_ctx, torch.cpu.amp.autocast(**ctx.cpu_autocast_kwargs):  # type: ignore[attr-defined]\n",
      "Training Epoch 1/1, Avg Loss: 1.0054, Acc: -0.0054:   5%|▍         | 63/1399 [03:36<1:17:35,  3.48s/it]"
     ]
    }
   ],
   "source": [
    "# Local imports\n",
    "from models import *\n",
    "from utils import *\n",
    "from losses import *\n",
    "from dataset import *\n",
    "from trainer import *\n",
    "from config import Config\n",
    "\n",
    "if __name__ == \"__main__\":\n",
    "    config = Config()\n",
    "    bert_config = HubertConfig.from_pretrained(config.bert_model)\n",
    "    device = torch.device(config.device if torch.cuda.is_available() else \"cpu\")\n",
    "    criterion = PearsonLoss()\n",
    "\n",
    "    model_classes = {\n",
    "        \"Wav2Vec2ConvLSTMModel\": Wav2Vec2ConvLSTMModel,\n",
    "        \"VRBModel\": VRBModel,\n",
    "        \"RespBertLSTMModel\": RespBertLSTMModel,\n",
    "        \"RespBertAttionModel\": RespBertAttionModel,\n",
    "    }\n",
    "\n",
    "    # Prepare data\n",
    "    train_data, test_data = prepare_data_model(\n",
    "        config.audio_interspeech_norm,\n",
    "        config.breath_interspeech_folder,\n",
    "        window_size=config.window_size,\n",
    "        step_size=config.step_size,\n",
    "    )\n",
    "\n",
    "    trainer = Trainer(config, model_classes, criterion, device, bert_config)\n",
    "    trainer.train(train_data, test_data)"
   ]
  },
  {
   "cell_type": "code",
   "execution_count": null,
   "id": "07cefc04-56a7-46ab-b11f-f7bab4479dc2",
   "metadata": {},
   "outputs": [
    {
     "name": "stdout",
     "output_type": "stream",
     "text": [
      "NVIDIA GeForce GTX 1050 Ti with Max-Q Design\n"
     ]
    }
   ],
   "source": [
    "import torch\n",
    "torch.cuda.is_available()\n",
    "print(torch.cuda.get_device_name())"
   ]
  },
  {
   "cell_type": "code",
   "execution_count": null,
   "id": "a1b8ed24",
   "metadata": {},
   "outputs": [],
   "source": []
  }
 ],
 "metadata": {
  "kernelspec": {
   "display_name": "Python 3 (ipykernel)",
   "language": "python",
   "name": "python3"
  },
  "language_info": {
   "codemirror_mode": {
    "name": "ipython",
    "version": 3
   },
   "file_extension": ".py",
   "mimetype": "text/x-python",
   "name": "python",
   "nbconvert_exporter": "python",
   "pygments_lexer": "ipython3",
   "version": "3.12.2"
  }
 },
 "nbformat": 4,
 "nbformat_minor": 5
}
