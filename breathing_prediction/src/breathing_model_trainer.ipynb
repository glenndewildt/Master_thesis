{
 "cells": [
  {
   "cell_type": "code",
   "execution_count": null,
   "id": "c1832f52",
   "metadata": {},
   "outputs": [],
   "source": []
  },
  {
   "cell_type": "code",
   "execution_count": 1,
   "id": "4eb70271-70af-41ec-9bc7-b5e596e53424",
   "metadata": {},
   "outputs": [
    {
     "name": "stderr",
     "output_type": "stream",
     "text": [
      "/gpfs/home3/gdwildt/micromamba/envs/mamba_thesis/lib/python3.11/site-packages/tqdm/auto.py:21: TqdmWarning: IProgress not found. Please update jupyter and ipywidgets. See https://ipywidgets.readthedocs.io/en/stable/user_install.html\n",
      "  from .autonotebook import tqdm as notebook_tqdm\n",
      "/gpfs/home3/gdwildt/micromamba/envs/mamba_thesis/lib/python3.11/site-packages/torchvision/io/image.py:13: UserWarning: Failed to load image Python extension: '/gpfs/home3/gdwildt/micromamba/envs/mamba_thesis/lib/python3.11/site-packages/torchvision/image.so: undefined symbol: _ZN3c1017RegisterOperatorsD1Ev'If you don't plan on using image functionality from `torchvision.io`, you can ignore this warning. Otherwise, there might be something wrong with your environment. Did you have `libjpeg` or `libpng` installed before building `torchvision` from source?\n",
      "  warn(\n",
      "/gpfs/home3/gdwildt/micromamba/envs/mamba_thesis/lib/python3.11/site-packages/transformers/configuration_utils.py:302: UserWarning: Passing `gradient_checkpointing` to a config initialization is deprecated and will be removed in v5 Transformers. Using `model.gradient_checkpointing_enable()` instead, or if you are using the `Trainer` API, pass `gradient_checkpointing=True` in your `TrainingArguments`.\n",
      "  warnings.warn(\n"
     ]
    },
    {
     "name": "stdout",
     "output_type": "stream",
     "text": [
      "dict_values(['test_00.wav', 'test_01.wav', 'test_02.wav', 'test_03.wav', 'test_04.wav', 'test_05.wav', 'test_06.wav', 'test_07.wav', 'test_08.wav', 'test_09.wav', 'test_10.wav', 'test_11.wav', 'test_12.wav', 'test_13.wav', 'test_14.wav', 'test_15.wav'])\n",
      "dict_values(['devel_00.wav', 'devel_01.wav', 'devel_02.wav', 'devel_03.wav', 'devel_04.wav', 'devel_05.wav', 'devel_06.wav', 'devel_07.wav', 'devel_08.wav', 'devel_09.wav', 'devel_10.wav', 'devel_11.wav', 'devel_12.wav', 'devel_13.wav', 'devel_14.wav', 'devel_15.wav'])\n",
      "cuda\n",
      "Training Wav2Vec2ConvLSTMModel without k-fold cross-validation...\n"
     ]
    },
    {
     "name": "stderr",
     "output_type": "stream",
     "text": [
      "/gpfs/home3/gdwildt/micromamba/envs/mamba_thesis/lib/python3.11/site-packages/transformers/configuration_utils.py:302: UserWarning: Passing `gradient_checkpointing` to a config initialization is deprecated and will be removed in v5 Transformers. Using `model.gradient_checkpointing_enable()` instead, or if you are using the `Trainer` API, pass `gradient_checkpointing=True` in your `TrainingArguments`.\n",
      "  warnings.warn(\n",
      "/gpfs/home3/gdwildt/micromamba/envs/mamba_thesis/lib/python3.11/site-packages/transformers/tokenization_utils_base.py:1617: FutureWarning: `clean_up_tokenization_spaces` was not set. It will be set to `True` by default. This behavior will be deprecated in transformers v4.45, and will be then set to `False` by default. For more details check this issue: https://github.com/huggingface/transformers/issues/31884\n",
      "  warnings.warn(\n",
      "\u001b[36mTraining Wav2Vec2ConvLSTMModel - Fold 1/4\u001b[0m:   0%|          | 0/60 [00:00<?, ?it/s]"
     ]
    }
   ],
   "source": [
    "# Local imports\n",
    "from models import *\n",
    "from utils import *\n",
    "from losses import *\n",
    "from dataset import *\n",
    "from trainer import *\n",
    "from config import Config\n",
    "import os\n",
    "\n",
    "\n",
    "\n",
    "if __name__ == \"__main__\":\n",
    "\n",
    "    config = Config()\n",
    "\n",
    "\n",
    "    model_classes = {\n",
    "        ## Recreated models\n",
    "        #\"VRBModel\": VRBModel, #harma paper\n",
    "        \"Wav2Vec2ConvLSTMModel\": Wav2Vec2ConvLSTMModel, #apple paper\n",
    "        \n",
    "        ##own proposed models useing wavml large\n",
    "        #\"RespBertLSTMModel\": RespBertLSTMModel,\n",
    "        #\"RespBertAttionModel\": RespBertAttionModel,\n",
    "        ## test with print statements so you can see what happends\n",
    "        #\"RespBertLSTMModel\": RespBertLSTMModelTEST,\n",
    "\n",
    "    }\n",
    "\n",
    "    # Prepare data\n",
    "    train_data, test_data, val_data, ground_labels = prepare_data_model(\n",
    "        config.audio_interspeech_norm,\n",
    "        config.breath_interspeech_folder,\n",
    "        window_size=config.window_size,\n",
    "        step_size=config.step_size,\n",
    "    )\n",
    "\n",
    "    device = torch.device(\n",
    "        config.device if torch.cuda.is_available() else \"cpu\")\n",
    "    criterion = PearsonLoss()\n",
    "    print(device)\n",
    "\n",
    "    trainer = Trainer(config, model_classes, criterion,\n",
    "                      device, ground_labels)\n",
    "    #trainer.train(train_data, test_data)\n",
    "    # For k-fold cross-validation:\n",
    "    #trainer.train(train_data, None, test_data, use_folds=True)\n",
    "\n",
    "    # For simple train/val/test split:\n",
    "    trainer.train(train_data, val_data, test_data, use_folds=False)"
   ]
  },
  {
   "cell_type": "code",
   "execution_count": 1,
   "id": "07cefc04-56a7-46ab-b11f-f7bab4479dc2",
   "metadata": {},
   "outputs": [
    {
     "name": "stdout",
     "output_type": "stream",
     "text": [
      "NVIDIA A100-SXM4-40GB\n"
     ]
    }
   ],
   "source": [
    "import torch\n",
    "torch.cuda.is_available()\n",
    "print(torch.cuda.get_device_name())\n",
    "torch.cuda.empty_cache()\n"
   ]
  },
  {
   "cell_type": "code",
   "execution_count": null,
   "id": "a1b8ed24",
   "metadata": {},
   "outputs": [],
   "source": []
  },
  {
   "cell_type": "code",
   "execution_count": null,
   "id": "d27e2b1c",
   "metadata": {},
   "outputs": [],
   "source": []
  }
 ],
 "metadata": {
  "kernelspec": {
   "display_name": "Python 3 (ipykernel)",
   "language": "python",
   "name": "python3"
  },
  "language_info": {
   "codemirror_mode": {
    "name": "ipython",
    "version": 3
   },
   "file_extension": ".py",
   "mimetype": "text/x-python",
   "name": "python",
   "nbconvert_exporter": "python",
   "pygments_lexer": "ipython3",
   "version": "3.11.9"
  }
 },
 "nbformat": 4,
 "nbformat_minor": 5
}
