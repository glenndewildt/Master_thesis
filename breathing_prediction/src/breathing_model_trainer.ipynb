{
 "cells": [
  {
   "cell_type": "code",
   "execution_count": 1,
   "id": "c1832f52",
   "metadata": {},
   "outputs": [
    {
     "name": "stdout",
     "output_type": "stream",
     "text": [
      "Scalene extension successfully loaded. Note: Scalene currently only\n",
      "supports CPU+GPU profiling inside Jupyter notebooks. For full Scalene\n",
      "profiling, use the command line version. To profile in line mode, use\n",
      "`%scrun [options] statement`. To profile in cell mode, use `%%scalene\n",
      "[options]` followed by your code.\n"
     ]
    }
   ],
   "source": []
  },
  {
   "cell_type": "code",
   "execution_count": 1,
   "id": "4eb70271-70af-41ec-9bc7-b5e596e53424",
   "metadata": {},
   "outputs": [
    {
     "data": {
      "application/vnd.jupyter.widget-view+json": {
       "model_id": "74fb3858a5e34b00b722818cf831a9b5",
       "version_major": 2,
       "version_minor": 0
      },
      "text/plain": [
       "preprocessor_config.json:   0%|          | 0.00/214 [00:00<?, ?B/s]"
      ]
     },
     "metadata": {},
     "output_type": "display_data"
    },
    {
     "name": "stdout",
     "output_type": "stream",
     "text": [
      "cuda\n",
      "Training RespBertAttionModel...\n",
      "Fold 1/10\n"
     ]
    },
    {
     "name": "stderr",
     "output_type": "stream",
     "text": [
      "/home/gdwildt/.conda/envs/thesis/lib/python3.11/site-packages/torch/nn/modules/transformer.py:307: UserWarning: enable_nested_tensor is True, but self.use_nested_tensor is False because encoder_layer.self_attn.batch_first was not True(use batch_first for better inference performance)\n",
      "  warnings.warn(f\"enable_nested_tensor is True, but self.use_nested_tensor is False because {why_not_sparsity_fast_path}\")\n",
      "Training Epoch 1/100:   0%|          | 0/224 [00:00<?, ?it/s]/home/gdwildt/.conda/envs/thesis/lib/python3.11/site-packages/torch/nn/functional.py:5193: UserWarning: Support for mismatched key_padding_mask and attn_mask is deprecated. Use same type for both instead.\n",
      "  warnings.warn(\n",
      "Training Epoch 1/100, Avg Loss: 0.7282, Acc: 0.2718: 100%|██████████| 224/224 [07:56<00:00,  2.13s/it]\n"
     ]
    },
    {
     "name": "stdout",
     "output_type": "stream",
     "text": [
      "val loss 0.5678690671920776, val_acc 0.43213093280792236 , val_flat_acc, 0.46876448947023325\n",
      "val loss 0.4169059991836548, val_acc 0.5830940008163452 , val_flat_acc, 0.6454104638325461\n"
     ]
    },
    {
     "name": "stderr",
     "output_type": "stream",
     "text": [
      "Training Epoch 2/100, Avg Loss: 0.3859, Acc: 0.6141:  78%|███████▊  | 175/224 [06:12<01:44,  2.13s/it]"
     ]
    }
   ],
   "source": [
    "# Local imports\n",
    "from models import *\n",
    "from utils import *\n",
    "from losses import *\n",
    "from dataset import *\n",
    "from trainer import *\n",
    "from config import Config\n",
    "\n",
    "if __name__ == \"__main__\":\n",
    "    config = Config()\n",
    "    # Define the model name\n",
    "\n",
    "    # Load the processor\n",
    "\n",
    "    #bert_config = HubertConfig.from_pretrained(config.bert_model)\n",
    "\n",
    "    # Enable Flash Attention\n",
    "\n",
    "    model_classes = {\n",
    "        # \"VRBModel\": VRBModel,\n",
    "        # \"wav2vec2_1DCNN\" : Model1DCNN,\n",
    "        # \"OG_1DCNN\" : Model1DCNN,\n",
    "        # \"RespBertLSTMModel\": RespBertLSTMModel,time\n",
    "        # \"Wav2Vec2ConvLSTMModel\": Wav2Vec2ConvLSTMModel,\n",
    "        \"RespBertAttionModel\": RespBertAttionModel,\n",
    "    }\n",
    "\n",
    "    # Prepare data\n",
    "    train_data, test_data, ground_labels = prepare_data_model(\n",
    "        config.audio_interspeech_norm,\n",
    "        config.breath_interspeech_folder,\n",
    "        window_size=config.window_size,\n",
    "        step_size=config.step_size,\n",
    "    )\n",
    "\n",
    "    #model_name = \"patrickvonplaten/wavlm-libri-clean-100h-base-plus\"\n",
    "    model_name = \"microsoft/wavlm-large\"\n",
    "    #bert_config = AutoConfig.from_pretrained(model_name)\n",
    "    processor = Wav2Vec2FeatureExtractor.from_pretrained(\n",
    "        model_name, force_download=True)\n",
    "    bert_config = AutoConfig.from_pretrained(model_name, )\n",
    "    #processor = AutoProcessor.from_pretrained(model_name)\n",
    "\n",
    "    device = torch.device(\n",
    "        config.device if torch.cuda.is_available() else \"cpu\")\n",
    "    criterion = PearsonLoss()\n",
    "    print(device)\n",
    "\n",
    "    trainer = Trainer(config, model_classes, criterion,\n",
    "                      device, bert_config, ground_labels, processor)\n",
    "    trainer.train(train_data, test_data)\n"
   ]
  },
  {
   "cell_type": "code",
   "execution_count": 1,
   "id": "07cefc04-56a7-46ab-b11f-f7bab4479dc2",
   "metadata": {},
   "outputs": [
    {
     "name": "stdout",
     "output_type": "stream",
     "text": [
      "NVIDIA GeForce GTX 1050 Ti with Max-Q Design\n"
     ]
    }
   ],
   "source": [
    "import torch\n",
    "torch.cuda.is_available()\n",
    "print(torch.cuda.get_device_name())\n",
    "torch.cuda.empty_cache()\n"
   ]
  },
  {
   "cell_type": "code",
   "execution_count": null,
   "id": "a1b8ed24",
   "metadata": {},
   "outputs": [],
   "source": []
  },
  {
   "cell_type": "code",
   "execution_count": null,
   "id": "d27e2b1c",
   "metadata": {},
   "outputs": [],
   "source": []
  }
 ],
 "metadata": {
  "kernelspec": {
   "display_name": "Python 3 (ipykernel)",
   "language": "python",
   "name": "python3"
  },
  "language_info": {
   "codemirror_mode": {
    "name": "ipython",
    "version": 3
   },
   "file_extension": ".py",
   "mimetype": "text/x-python",
   "name": "python",
   "nbconvert_exporter": "python",
   "pygments_lexer": "ipython3",
   "version": "3.11.4"
  }
 },
 "nbformat": 4,
 "nbformat_minor": 5
}
