{
 "cells": [
  {
   "cell_type": "code",
   "execution_count": null,
   "id": "c1832f52",
   "metadata": {},
   "outputs": [],
   "source": []
  },
  {
   "cell_type": "code",
   "execution_count": 1,
   "id": "4eb70271-70af-41ec-9bc7-b5e596e53424",
   "metadata": {},
   "outputs": [
    {
     "name": "stderr",
     "output_type": "stream",
     "text": [
      "/gpfs/home3/gdwildt/micromamba/envs/mamba_thesis/lib/python3.11/site-packages/tqdm/auto.py:21: TqdmWarning: IProgress not found. Please update jupyter and ipywidgets. See https://ipywidgets.readthedocs.io/en/stable/user_install.html\n",
      "  from .autonotebook import tqdm as notebook_tqdm\n",
      "/gpfs/home3/gdwildt/micromamba/envs/mamba_thesis/lib/python3.11/site-packages/torchvision/io/image.py:13: UserWarning: Failed to load image Python extension: '/gpfs/home3/gdwildt/micromamba/envs/mamba_thesis/lib/python3.11/site-packages/torchvision/image.so: undefined symbol: _ZN3c1017RegisterOperatorsD1Ev'If you don't plan on using image functionality from `torchvision.io`, you can ignore this warning. Otherwise, there might be something wrong with your environment. Did you have `libjpeg` or `libpng` installed before building `torchvision` from source?\n",
      "  warn(\n"
     ]
    },
    {
     "name": "stdout",
     "output_type": "stream",
     "text": [
      "cuda\n",
      "Training RespBertLSTMModel...\n",
      "Fold 7/7\n"
     ]
    },
    {
     "name": "stderr",
     "output_type": "stream",
     "text": [
      "/gpfs/home3/gdwildt/Master_thesis/breathing_prediction/src/trainer.py:66: FutureWarning: `torch.cuda.amp.GradScaler(args...)` is deprecated. Please use `torch.amp.GradScaler('cuda', args...)` instead.\n",
      "  self.scaler = GradScaler()\n",
      "Training Epoch 1/60:   0%|          | 0/174 [00:00<?, ?it/s]/gpfs/home3/gdwildt/micromamba/envs/mamba_thesis/lib/python3.11/site-packages/torch/nn/functional.py:5193: UserWarning: Support for mismatched key_padding_mask and attn_mask is deprecated. Use same type for both instead.\n",
      "  warnings.warn(\n",
      "Training Epoch 1/60, Avg Loss: 0.9822, Acc: 0.0178:   4%|▍         | 7/174 [00:22<06:24,  2.30s/it] "
     ]
    }
   ],
   "source": [
    "# Local imports\n",
    "from models import *\n",
    "from utils import *\n",
    "from losses import *\n",
    "from dataset import *\n",
    "from trainer import *\n",
    "from config import Config\n",
    "import os\n",
    "\n",
    "\n",
    "\n",
    "if __name__ == \"__main__\":\n",
    "    os.environ['CUDA_LAUNCH_BLOCKING']=\"1\"\n",
    "    os.environ['TORCH_USE_CUDA_DSA'] = \"1\"\n",
    "    config = Config()\n",
    "    # Define the model name\n",
    "\n",
    "    # Load the processor\n",
    "\n",
    "    # bert_config = HubertConfig.from_pretrained(config.bert_model)attaion_model_20_epochs_85\n",
    "\n",
    "    # Enable Flash Attention\n",
    "\n",
    "    model_classes = {\n",
    "        # \"VRBModel\": VRBModel,\n",
    "        # \"wav2vec2_1DCNN\" : Model1DCNN,\n",
    "        # \"OG_1DCNN\" : Model1DCNN,\n",
    "        \"RespBertLSTMModel\": RespBertLSTMModel,\n",
    "        # \"Wav2Vec2ConvLSTMModel\": Wav2Vec2ConvLSTMModel,\n",
    "        # \"RespBertAttionModel\": RespBertAttionModel,\n",
    "    }\n",
    "\n",
    "    # Prepare data\n",
    "    train_data, test_data, ground_labels = prepare_data_model(\n",
    "        config.audio_interspeech_norm,\n",
    "        config.breath_interspeech_folder,\n",
    "        window_size=config.window_size,\n",
    "        step_size=config.step_size,\n",
    "    )\n",
    "    model_name = \"microsoft/wavlm-large\"\n",
    "    #bert_config = AutoConfig.from_pretrained(model_name)\n",
    "    processor = Wav2Vec2FeatureExtractor.from_pretrained(\n",
    "        \"microsoft/wavlm-large\", force_download=True)\n",
    "    #model_name = \"patrickvonplaten/wavlm-libri-clean-100h-base-plus\"\n",
    "    #model_name = \"microsoft/wavlm-large\"\n",
    "    #bert_config = AutoConfig.from_pretrained(model_name)\n",
    "    #processor = AutoProcessor.from_pretrained(model_name)\n",
    "    bert_config = AutoConfig.from_pretrained(model_name)\n",
    "    #processor = AutoProcessor.from_pretrained(model_name)\n",
    "    device = torch.device(\n",
    "        config.device if torch.cuda.is_available() else \"cpu\")\n",
    "    criterion = PearsonLoss()\n",
    "    print(device)\n",
    "\n",
    "    trainer = Trainer(config, model_classes, criterion,\n",
    "                      device, bert_config, ground_labels, processor)\n",
    "    trainer.train(train_data, test_data)\n"
   ]
  },
  {
   "cell_type": "code",
   "execution_count": 2,
   "id": "07cefc04-56a7-46ab-b11f-f7bab4479dc2",
   "metadata": {},
   "outputs": [
    {
     "name": "stdout",
     "output_type": "stream",
     "text": [
      "NVIDIA A100-SXM4-40GB\n"
     ]
    }
   ],
   "source": [
    "import torch\n",
    "torch.cuda.is_available()\n",
    "print(torch.cuda.get_device_name())\n",
    "torch.cuda.empty_cache()\n"
   ]
  },
  {
   "cell_type": "code",
   "execution_count": null,
   "id": "a1b8ed24",
   "metadata": {},
   "outputs": [],
   "source": []
  },
  {
   "cell_type": "code",
   "execution_count": null,
   "id": "d27e2b1c",
   "metadata": {},
   "outputs": [],
   "source": []
  }
 ],
 "metadata": {
  "kernelspec": {
   "display_name": "Python 3 (ipykernel)",
   "language": "python",
   "name": "python3"
  },
  "language_info": {
   "codemirror_mode": {
    "name": "ipython",
    "version": 3
   },
   "file_extension": ".py",
   "mimetype": "text/x-python",
   "name": "python",
   "nbconvert_exporter": "python",
   "pygments_lexer": "ipython3",
   "version": "3.11.9"
  }
 },
 "nbformat": 4,
 "nbformat_minor": 5
}
